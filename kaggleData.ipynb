{
 "cells": [
  {
   "cell_type": "code",
   "execution_count": 52,
   "metadata": {},
   "outputs": [
    {
     "name": "stderr",
     "output_type": "stream",
     "text": [
      "C:\\Users\\hiro7\\AppData\\Local\\Temp\\ipykernel_16380\\3223696955.py:23: FutureWarning: Series.fillna with 'method' is deprecated and will raise in a future version. Use obj.ffill() or obj.bfill() instead.\n",
      "  oil['dcoilwtico'] = oil['dcoilwtico'].fillna(method='ffill')\n"
     ]
    }
   ],
   "source": [
    "import pandas as pd\n",
    "from sklearn.preprocessing import LabelEncoder\n",
    "from sklearn.ensemble import RandomForestRegressor\n",
    "from sklearn.model_selection import train_test_split\n",
    "from sklearn.metrics import mean_squared_error\n",
    "\n",
    "# Load data\n",
    "train = pd.read_csv('C:/store-sales-time-series-forecasting/train.csv')\n",
    "test = pd.read_csv('C:/store-sales-time-series-forecasting/test.csv')\n",
    "stores = pd.read_csv('C:/store-sales-time-series-forecasting/stores.csv')\n",
    "oil = pd.read_csv('C:/store-sales-time-series-forecasting/oil.csv')\n",
    "holidays = pd.read_csv('C:/store-sales-time-series-forecasting/holidays_events.csv')\n",
    "transactions = pd.read_csv('C:/store-sales-time-series-forecasting/transactions.csv')\n",
    "\n",
    "# Convert date columns to datetime\n",
    "train['date'] = pd.to_datetime(train['date'])\n",
    "test['date'] = pd.to_datetime(test['date'])\n",
    "oil['date'] = pd.to_datetime(oil['date'])\n",
    "holidays['date'] = pd.to_datetime(holidays['date'])\n",
    "transactions['date'] = pd.to_datetime(transactions['date'])\n",
    "\n",
    "# Fill missing oil prices with forward fill\n",
    "oil['dcoilwtico'] = oil['dcoilwtico'].fillna(method='ffill')\n",
    "\n",
    "# Merge datasets\n",
    "train = train.merge(stores, on='store_nbr', how='left')\n",
    "train = train.merge(oil, on='date', how='left')\n",
    "train = train.merge(holidays, on='date', how='left')\n",
    "train = train.merge(transactions, on=['date', 'store_nbr'], how='left')\n",
    "\n",
    "test = test.merge(stores, on='store_nbr', how='left')\n",
    "test = test.merge(oil, on='date', how='left')\n",
    "test = test.merge(holidays, on='date', how='left')\n",
    "test = test.merge(transactions, on=['date', 'store_nbr'], how='left')\n",
    "\n",
    "# Handle missing values in test\n",
    "test['transactions'] = test['transactions'].fillna(0)"
   ]
  },
  {
   "cell_type": "code",
   "execution_count": 56,
   "metadata": {},
   "outputs": [],
   "source": [
    "# Create additional features\n",
    "train['year'] = train['date'].dt.year\n",
    "train['month'] = train['date'].dt.month\n",
    "train['day'] = train['date'].dt.day\n",
    "train['day_of_week'] = train['date'].dt.dayofweek\n",
    "\n",
    "test['year'] = test['date'].dt.year\n",
    "test['month'] = test['date'].dt.month\n",
    "test['day'] = test['date'].dt.day\n",
    "test['day_of_week'] = test['date'].dt.dayofweek\n",
    "\n",
    "# Initialize LabelEncoder\n",
    "le = LabelEncoder()\n",
    "\n",
    "# List of columns to be encoded\n",
    "columns_to_encode = ['family', 'city', 'state', 'type_x','type_y', 'locale', 'locale_name', 'description', 'transferred']\n",
    "\n",
    "# Encode categorical features in train dataset\n",
    "for column in columns_to_encode:\n",
    "    if column in train.columns:\n",
    "        train[column] = le.fit_transform(train[column])\n",
    "\n",
    "\n"
   ]
  },
  {
   "cell_type": "code",
   "execution_count": 62,
   "metadata": {},
   "outputs": [],
   "source": [
    "import numpy as np\n",
    "# Ensure the label encoder can handle new categories in the test data\n",
    "for column in columns_to_encode:\n",
    "    if column in test.columns:\n",
    "        # Find new categories in the test set that are not in the training set\n",
    "        new_categories = set(test[column].unique()) - set(le.classes_)\n",
    "        \n",
    "        # Add new categories to the classes_ attribute\n",
    "        le.classes_ = np.append(le.classes_, list(new_categories))\n",
    "        \n",
    "        # Transform the test data\n",
    "        test[column] = le.transform(test[column])"
   ]
  },
  {
   "cell_type": "code",
   "execution_count": 63,
   "metadata": {},
   "outputs": [],
   "source": [
    "# Select features and target\n",
    "features = ['store_nbr', 'family', 'onpromotion', 'transactions', 'dcoilwtico', 'year', 'month', 'day', 'day_of_week']\n",
    "target = 'sales'"
   ]
  },
  {
   "cell_type": "code",
   "execution_count": 64,
   "metadata": {},
   "outputs": [
    {
     "name": "stderr",
     "output_type": "stream",
     "text": [
      "c:\\Users\\hiro7\\AppData\\Local\\Programs\\Python\\Python312\\Lib\\site-packages\\sklearn\\metrics\\_regression.py:483: FutureWarning: 'squared' is deprecated in version 1.4 and will be removed in 1.6. To calculate the root mean squared error, use the function'root_mean_squared_error'.\n",
      "  warnings.warn(\n"
     ]
    },
    {
     "name": "stdout",
     "output_type": "stream",
     "text": [
      "Validation RMSE: 198.28852926275667\n",
      "Submission file saved.\n"
     ]
    }
   ],
   "source": [
    "\n",
    "# Prepare data\n",
    "X = train[features]\n",
    "y = train[target]\n",
    "X_test = test[features]\n",
    "\n",
    "# Split train data for validation\n",
    "X_train, X_val, y_train, y_val = train_test_split(X, y, test_size=0.2, random_state=42)\n",
    "\n",
    "# Train the model\n",
    "model = RandomForestRegressor(n_estimators=100, random_state=42)\n",
    "model.fit(X_train, y_train)\n",
    "\n",
    "# Validate the model\n",
    "y_pred = model.predict(X_val)\n",
    "print(\"Validation RMSE:\", mean_squared_error(y_val, y_pred, squared=False))\n",
    "\n",
    "# Predict on test data\n",
    "test['sales'] = model.predict(X_test)\n",
    "\n",
    "# Prepare submission\n",
    "sample_submission = pd.read_csv('C:/store-sales-time-series-forecasting/sample_submission.csv')\n",
    "submission = sample_submission.copy()\n",
    "submission['sales'] = test['sales']\n",
    "\n",
    "# Save to CSV\n",
    "submission.to_csv('submission.csv', index=False)\n",
    "print(\"Submission file saved.\")"
   ]
  },
  {
   "cell_type": "code",
   "execution_count": null,
   "metadata": {},
   "outputs": [],
   "source": []
  }
 ],
 "metadata": {
  "kernelspec": {
   "display_name": "Python 3",
   "language": "python",
   "name": "python3"
  },
  "language_info": {
   "codemirror_mode": {
    "name": "ipython",
    "version": 3
   },
   "file_extension": ".py",
   "mimetype": "text/x-python",
   "name": "python",
   "nbconvert_exporter": "python",
   "pygments_lexer": "ipython3",
   "version": "3.12.2"
  }
 },
 "nbformat": 4,
 "nbformat_minor": 2
}
